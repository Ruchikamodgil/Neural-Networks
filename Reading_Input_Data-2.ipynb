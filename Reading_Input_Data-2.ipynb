{
  "nbformat": 4,
  "nbformat_minor": 0,
  "metadata": {
    "colab": {
      "name": "Reading Input Data.ipynb",
      "provenance": []
    },
    "kernelspec": {
      "name": "python3",
      "display_name": "Python 3"
    }
  },
  "cells": [
    {
      "cell_type": "code",
      "metadata": {
        "id": "m8_mxmfNanM-"
      },
      "source": [
        "import tensorflow as tf\n",
        "import pathlib\n",
        "import os\n",
        "import matplotlib.pyplot as plt\n",
        "import pandas as pd\n",
        "import numpy as np"
      ],
      "execution_count": 2,
      "outputs": []
    },
    {
      "cell_type": "code",
      "metadata": {
        "id": "RwW0DhZKanPl"
      },
      "source": [
        "file_path = tf.keras.utils.get_file('shakespeare.txt', 'https://storage.googleapis.com/download.tensorflow.org/data/shakespeare.txt')"
      ],
      "execution_count": 4,
      "outputs": []
    },
    {
      "cell_type": "code",
      "metadata": {
        "id": "nk3FgQgyanSY"
      },
      "source": [
        "dataset = tf.data.TextLineDataset(file_path)"
      ],
      "execution_count": 5,
      "outputs": []
    },
    {
      "cell_type": "code",
      "metadata": {
        "colab": {
          "base_uri": "https://localhost:8080/"
        },
        "id": "bvjfiV3IanU-",
        "outputId": "21e6f283-d9e0-49fc-b374-ffb4ee7f3c86"
      },
      "source": [
        "for line in dataset.take(10):\n",
        "  print(line.numpy())"
      ],
      "execution_count": 9,
      "outputs": [
        {
          "output_type": "stream",
          "text": [
            "b'First Citizen:'\n",
            "b'Before we proceed any further, hear me speak.'\n",
            "b''\n",
            "b'All:'\n",
            "b'Speak, speak.'\n",
            "b''\n",
            "b'First Citizen:'\n",
            "b'You are all resolved rather to die than to famish?'\n",
            "b''\n",
            "b'All:'\n"
          ],
          "name": "stdout"
        }
      ]
    },
    {
      "cell_type": "code",
      "metadata": {
        "id": "2XZyMNN1bmGU"
      },
      "source": [
        "# Titanic Dataset"
      ],
      "execution_count": null,
      "outputs": []
    },
    {
      "cell_type": "code",
      "metadata": {
        "id": "G8MO6PICanYS"
      },
      "source": [
        "file_path = tf.keras.utils.get_file(\"train.csv\", \"https://storage.googleapis.com/tf-datasets/titanic/train.csv\")\n",
        "dataset = tf.data.TextLineDataset(file_path)"
      ],
      "execution_count": 12,
      "outputs": []
    },
    {
      "cell_type": "code",
      "metadata": {
        "colab": {
          "base_uri": "https://localhost:8080/"
        },
        "id": "5DOvxqnEaiPy",
        "outputId": "5a4209bb-677d-406b-b979-36d35dffc5a8"
      },
      "source": [
        "for line in dataset.take(10):\n",
        "  print(line.numpy())"
      ],
      "execution_count": 13,
      "outputs": [
        {
          "output_type": "stream",
          "text": [
            "b'survived,sex,age,n_siblings_spouses,parch,fare,class,deck,embark_town,alone'\n",
            "b'0,male,22.0,1,0,7.25,Third,unknown,Southampton,n'\n",
            "b'1,female,38.0,1,0,71.2833,First,C,Cherbourg,n'\n",
            "b'1,female,26.0,0,0,7.925,Third,unknown,Southampton,y'\n",
            "b'1,female,35.0,1,0,53.1,First,C,Southampton,n'\n",
            "b'0,male,28.0,0,0,8.4583,Third,unknown,Queenstown,y'\n",
            "b'0,male,2.0,3,1,21.075,Third,unknown,Southampton,n'\n",
            "b'1,female,27.0,0,2,11.1333,Third,unknown,Southampton,n'\n",
            "b'1,female,14.0,1,0,30.0708,Second,unknown,Cherbourg,n'\n",
            "b'1,female,4.0,1,1,16.7,Third,G,Southampton,n'\n"
          ],
          "name": "stdout"
        }
      ]
    },
    {
      "cell_type": "code",
      "metadata": {
        "id": "dtYDJErMb8ST"
      },
      "source": [
        "def survived(line):\n",
        "  return tf.not_equal(tf.strings.substr(line, 0,1), \"0\")\n",
        "\n",
        "survived = dataset.skip(0).filter(survived)"
      ],
      "execution_count": 23,
      "outputs": []
    },
    {
      "cell_type": "code",
      "metadata": {
        "colab": {
          "base_uri": "https://localhost:8080/"
        },
        "id": "AW2s_wt_cY2D",
        "outputId": "270564b2-0da0-44a2-c62f-3cfedd4e2c5f"
      },
      "source": [
        "for line in survived.take(10):\n",
        "  print(line.numpy())"
      ],
      "execution_count": 24,
      "outputs": [
        {
          "output_type": "stream",
          "text": [
            "b'survived,sex,age,n_siblings_spouses,parch,fare,class,deck,embark_town,alone'\n",
            "b'1,female,38.0,1,0,71.2833,First,C,Cherbourg,n'\n",
            "b'1,female,26.0,0,0,7.925,Third,unknown,Southampton,y'\n",
            "b'1,female,35.0,1,0,53.1,First,C,Southampton,n'\n",
            "b'1,female,27.0,0,2,11.1333,Third,unknown,Southampton,n'\n",
            "b'1,female,14.0,1,0,30.0708,Second,unknown,Cherbourg,n'\n",
            "b'1,female,4.0,1,1,16.7,Third,G,Southampton,n'\n",
            "b'1,male,28.0,0,0,13.0,Second,unknown,Southampton,y'\n",
            "b'1,female,28.0,0,0,7.225,Third,unknown,Cherbourg,y'\n",
            "b'1,male,28.0,0,0,35.5,First,A,Southampton,y'\n"
          ],
          "name": "stdout"
        }
      ]
    },
    {
      "cell_type": "code",
      "metadata": {
        "colab": {
          "base_uri": "https://localhost:8080/",
          "height": 195
        },
        "id": "HanQcsw-reEP",
        "outputId": "3f9dc81d-915b-4342-dea5-8a670b966d27"
      },
      "source": [
        "df = pd.read_csv(file_path)\n",
        "df.head(5)"
      ],
      "execution_count": 26,
      "outputs": [
        {
          "output_type": "execute_result",
          "data": {
            "text/html": [
              "<div>\n",
              "<style scoped>\n",
              "    .dataframe tbody tr th:only-of-type {\n",
              "        vertical-align: middle;\n",
              "    }\n",
              "\n",
              "    .dataframe tbody tr th {\n",
              "        vertical-align: top;\n",
              "    }\n",
              "\n",
              "    .dataframe thead th {\n",
              "        text-align: right;\n",
              "    }\n",
              "</style>\n",
              "<table border=\"1\" class=\"dataframe\">\n",
              "  <thead>\n",
              "    <tr style=\"text-align: right;\">\n",
              "      <th></th>\n",
              "      <th>survived</th>\n",
              "      <th>sex</th>\n",
              "      <th>age</th>\n",
              "      <th>n_siblings_spouses</th>\n",
              "      <th>parch</th>\n",
              "      <th>fare</th>\n",
              "      <th>class</th>\n",
              "      <th>deck</th>\n",
              "      <th>embark_town</th>\n",
              "      <th>alone</th>\n",
              "    </tr>\n",
              "  </thead>\n",
              "  <tbody>\n",
              "    <tr>\n",
              "      <th>0</th>\n",
              "      <td>0</td>\n",
              "      <td>male</td>\n",
              "      <td>22.0</td>\n",
              "      <td>1</td>\n",
              "      <td>0</td>\n",
              "      <td>7.2500</td>\n",
              "      <td>Third</td>\n",
              "      <td>unknown</td>\n",
              "      <td>Southampton</td>\n",
              "      <td>n</td>\n",
              "    </tr>\n",
              "    <tr>\n",
              "      <th>1</th>\n",
              "      <td>1</td>\n",
              "      <td>female</td>\n",
              "      <td>38.0</td>\n",
              "      <td>1</td>\n",
              "      <td>0</td>\n",
              "      <td>71.2833</td>\n",
              "      <td>First</td>\n",
              "      <td>C</td>\n",
              "      <td>Cherbourg</td>\n",
              "      <td>n</td>\n",
              "    </tr>\n",
              "    <tr>\n",
              "      <th>2</th>\n",
              "      <td>1</td>\n",
              "      <td>female</td>\n",
              "      <td>26.0</td>\n",
              "      <td>0</td>\n",
              "      <td>0</td>\n",
              "      <td>7.9250</td>\n",
              "      <td>Third</td>\n",
              "      <td>unknown</td>\n",
              "      <td>Southampton</td>\n",
              "      <td>y</td>\n",
              "    </tr>\n",
              "    <tr>\n",
              "      <th>3</th>\n",
              "      <td>1</td>\n",
              "      <td>female</td>\n",
              "      <td>35.0</td>\n",
              "      <td>1</td>\n",
              "      <td>0</td>\n",
              "      <td>53.1000</td>\n",
              "      <td>First</td>\n",
              "      <td>C</td>\n",
              "      <td>Southampton</td>\n",
              "      <td>n</td>\n",
              "    </tr>\n",
              "    <tr>\n",
              "      <th>4</th>\n",
              "      <td>0</td>\n",
              "      <td>male</td>\n",
              "      <td>28.0</td>\n",
              "      <td>0</td>\n",
              "      <td>0</td>\n",
              "      <td>8.4583</td>\n",
              "      <td>Third</td>\n",
              "      <td>unknown</td>\n",
              "      <td>Queenstown</td>\n",
              "      <td>y</td>\n",
              "    </tr>\n",
              "  </tbody>\n",
              "</table>\n",
              "</div>"
            ],
            "text/plain": [
              "   survived     sex   age  ...     deck  embark_town  alone\n",
              "0         0    male  22.0  ...  unknown  Southampton      n\n",
              "1         1  female  38.0  ...        C    Cherbourg      n\n",
              "2         1  female  26.0  ...  unknown  Southampton      y\n",
              "3         1  female  35.0  ...        C  Southampton      n\n",
              "4         0    male  28.0  ...  unknown   Queenstown      y\n",
              "\n",
              "[5 rows x 10 columns]"
            ]
          },
          "metadata": {
            "tags": []
          },
          "execution_count": 26
        }
      ]
    },
    {
      "cell_type": "code",
      "metadata": {
        "id": "A70Mwryxt02O"
      },
      "source": [
        "data_batches = tf.data.experimental.make_csv_dataset(\n",
        "    file_path, batch_size=5,\n",
        "    label_name=\"survived\", select_columns=['sex', 'age', 'survived'])"
      ],
      "execution_count": 29,
      "outputs": []
    },
    {
      "cell_type": "code",
      "metadata": {
        "colab": {
          "base_uri": "https://localhost:8080/"
        },
        "id": "iLonpJx2uJT4",
        "outputId": "142b94bf-2e68-4906-8247-e2c429e054f5"
      },
      "source": [
        "for i,j in data_batches.take(2):\n",
        "  print(\"'survived': {}\".format(j))\n",
        "  for key, value in i.items():\n",
        "    print(\"{}    : {}\".format(key, value))"
      ],
      "execution_count": 35,
      "outputs": [
        {
          "output_type": "stream",
          "text": [
            "'survived': [0 1 0 1 0]\n",
            "sex    : [b'male' b'female' b'male' b'female' b'male']\n",
            "age    : [49. 28. 32. 19. 27.]\n",
            "'survived': [0 1 0 0 0]\n",
            "sex    : [b'male' b'female' b'male' b'male' b'male']\n",
            "age    : [20. 24. 16. 28. 36.]\n"
          ],
          "name": "stdout"
        }
      ]
    },
    {
      "cell_type": "code",
      "metadata": {
        "id": "JZ0eK5n3uqLZ"
      },
      "source": [
        ""
      ],
      "execution_count": null,
      "outputs": []
    }
  ]
}