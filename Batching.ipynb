{
  "nbformat": 4,
  "nbformat_minor": 0,
  "metadata": {
    "colab": {
      "name": "Batching.ipynb",
      "provenance": []
    },
    "kernelspec": {
      "name": "python3",
      "display_name": "Python 3"
    }
  },
  "cells": [
    {
      "cell_type": "code",
      "metadata": {
        "id": "onTJAwBNROTC"
      },
      "source": [
        "#Batching "
      ],
      "execution_count": 1,
      "outputs": []
    },
    {
      "cell_type": "code",
      "metadata": {
        "id": "h6_w5GP9YTUB"
      },
      "source": [
        "import tensorflow as tf\n",
        "import pathlib\n",
        "import os\n",
        "import matplotlib.pyplot as plt\n",
        "import pandas as pd\n",
        "import numpy as np"
      ],
      "execution_count": null,
      "outputs": []
    },
    {
      "cell_type": "code",
      "metadata": {
        "colab": {
          "base_uri": "https://localhost:8080/"
        },
        "id": "4NTTNLHzVHJ8",
        "outputId": "67033883-62df-49e9-d9c4-16e557d65750"
      },
      "source": [
        "first = tf.data.Dataset.range(50)\n",
        "second = tf.data.Dataset.range(50,100)\n",
        "dataset = tf.data.Dataset.zip((first,second))\n",
        "batched_dataset = dataset.batch(3)\n",
        "\n",
        "for i in batched_dataset.take(4):\n",
        "  print([j.numpy() for j in i])"
      ],
      "execution_count": 14,
      "outputs": [
        {
          "output_type": "stream",
          "text": [
            "[array([0, 1, 2]), array([50, 51, 52])]\n",
            "[array([3, 4, 5]), array([53, 54, 55])]\n",
            "[array([6, 7, 8]), array([56, 57, 58])]\n",
            "[array([ 9, 10, 11]), array([59, 60, 61])]\n"
          ],
          "name": "stdout"
        }
      ]
    },
    {
      "cell_type": "code",
      "metadata": {
        "colab": {
          "base_uri": "https://localhost:8080/"
        },
        "id": "zZeXmrWgVsGQ",
        "outputId": "2acf0ead-7f1b-489f-84e2-cacd5840fb2d"
      },
      "source": [
        "batched_dataset"
      ],
      "execution_count": 15,
      "outputs": [
        {
          "output_type": "execute_result",
          "data": {
            "text/plain": [
              "<BatchDataset shapes: ((None,), (None,)), types: (tf.int64, tf.int64)>"
            ]
          },
          "metadata": {
            "tags": []
          },
          "execution_count": 15
        }
      ]
    },
    {
      "cell_type": "code",
      "metadata": {
        "colab": {
          "base_uri": "https://localhost:8080/"
        },
        "id": "KONIqAn8YfKv",
        "outputId": "2daf7812-22c2-45b6-f1f7-ad7294ac4a23"
      },
      "source": [
        "len(batched_dataset)"
      ],
      "execution_count": 16,
      "outputs": [
        {
          "output_type": "execute_result",
          "data": {
            "text/plain": [
              "17"
            ]
          },
          "metadata": {
            "tags": []
          },
          "execution_count": 16
        }
      ]
    },
    {
      "cell_type": "code",
      "metadata": {
        "id": "bqAh1gTnYarw"
      },
      "source": [
        "#removing the last batch if it is of improper shape that is if dimensions of last batch are not equal to the defined ones"
      ],
      "execution_count": 17,
      "outputs": []
    },
    {
      "cell_type": "code",
      "metadata": {
        "colab": {
          "base_uri": "https://localhost:8080/"
        },
        "id": "kouQYlm3Vu81",
        "outputId": "58a40494-c97c-468b-e27a-30fc5cbcc675"
      },
      "source": [
        "batched_dataset = dataset.batch(3, drop_remainder=True)\n",
        "batched_dataset"
      ],
      "execution_count": 18,
      "outputs": [
        {
          "output_type": "execute_result",
          "data": {
            "text/plain": [
              "<BatchDataset shapes: ((3,), (3,)), types: (tf.int64, tf.int64)>"
            ]
          },
          "metadata": {
            "tags": []
          },
          "execution_count": 18
        }
      ]
    },
    {
      "cell_type": "code",
      "metadata": {
        "colab": {
          "base_uri": "https://localhost:8080/"
        },
        "id": "SryLaJt0WQT3",
        "outputId": "33dbc7a5-5503-4d15-8b6e-ffeb6fc4f202"
      },
      "source": [
        "len(batched_dataset)"
      ],
      "execution_count": 19,
      "outputs": [
        {
          "output_type": "execute_result",
          "data": {
            "text/plain": [
              "16"
            ]
          },
          "metadata": {
            "tags": []
          },
          "execution_count": 19
        }
      ]
    },
    {
      "cell_type": "code",
      "metadata": {
        "colab": {
          "base_uri": "https://localhost:8080/"
        },
        "id": "EvS0fxSUVvC3",
        "outputId": "78a4f619-aede-4c4c-a4a1-afa656ab2ad7"
      },
      "source": [
        "for i in batched_dataset.take(4):\n",
        "  print([j.numpy() for j in i])"
      ],
      "execution_count": 20,
      "outputs": [
        {
          "output_type": "stream",
          "text": [
            "[array([0, 1, 2]), array([50, 51, 52])]\n",
            "[array([3, 4, 5]), array([53, 54, 55])]\n",
            "[array([6, 7, 8]), array([56, 57, 58])]\n",
            "[array([ 9, 10, 11]), array([59, 60, 61])]\n"
          ],
          "name": "stdout"
        }
      ]
    },
    {
      "cell_type": "code",
      "metadata": {
        "id": "Y1CsHvExY3Fh"
      },
      "source": [
        "# batched tensors with padding\n",
        "# suitable for models working on sequential data\n",
        "# for e.g. in speech related models input is of different dimensions"
      ],
      "execution_count": null,
      "outputs": []
    },
    {
      "cell_type": "code",
      "metadata": {
        "colab": {
          "base_uri": "https://localhost:8080/"
        },
        "id": "eIdoaUL-ZSjA",
        "outputId": "8cbf9fcd-6679-4511-c2b7-843484997de5"
      },
      "source": [
        "A = (tf.data.Dataset.range(1, 10, output_type=tf.int32).map(lambda x: tf.fill([x], x)))\n",
        "B = A.padded_batch(4)\n",
        "for element in B.as_numpy_iterator():\n",
        "  print(element)"
      ],
      "execution_count": 31,
      "outputs": [
        {
          "output_type": "stream",
          "text": [
            "[[1 0 0 0]\n",
            " [2 2 0 0]\n",
            " [3 3 3 0]\n",
            " [4 4 4 4]]\n",
            "[[5 5 5 5 5 0 0 0]\n",
            " [6 6 6 6 6 6 0 0]\n",
            " [7 7 7 7 7 7 7 0]\n",
            " [8 8 8 8 8 8 8 8]]\n",
            "[[9 9 9 9 9 9 9 9 9]]\n"
          ],
          "name": "stdout"
        }
      ]
    }
  ]
}