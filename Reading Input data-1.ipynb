{
  "nbformat": 4,
  "nbformat_minor": 0,
  "metadata": {
    "colab": {
      "name": "Untitled69.ipynb",
      "provenance": []
    },
    "kernelspec": {
      "name": "python3",
      "display_name": "Python 3"
    }
  },
  "cells": [
    {
      "cell_type": "code",
      "metadata": {
        "id": "ZI1Xej1mH_bG"
      },
      "source": [
        "import tensorflow as tf\n",
        "import pathlib\n",
        "import os\n",
        "import matplotlib.pyplot as plt\n",
        "import pandas as pd\n",
        "import numpy as np\n"
      ],
      "execution_count": 1,
      "outputs": []
    },
    {
      "cell_type": "code",
      "metadata": {
        "colab": {
          "base_uri": "https://localhost:8080/"
        },
        "id": "MAtoFXJVS0yQ",
        "outputId": "d508f6fa-ae03-4184-d637-4c367786e9a8"
      },
      "source": [
        "dataset = tf.data.Dataset.from_tensor_slices([3,4,5,6])\n",
        "dataset"
      ],
      "execution_count": 2,
      "outputs": [
        {
          "output_type": "execute_result",
          "data": {
            "text/plain": [
              "<TensorSliceDataset shapes: (), types: tf.int32>"
            ]
          },
          "metadata": {
            "tags": []
          },
          "execution_count": 2
        }
      ]
    },
    {
      "cell_type": "code",
      "metadata": {
        "colab": {
          "base_uri": "https://localhost:8080/"
        },
        "id": "QRHUTwqBTAr5",
        "outputId": "f25f62fc-9a44-449e-9ce8-ff4960a5ec84"
      },
      "source": [
        "for elem in dataset:\n",
        "  print(elem.numpy())"
      ],
      "execution_count": 3,
      "outputs": [
        {
          "output_type": "stream",
          "text": [
            "3\n",
            "4\n",
            "5\n",
            "6\n"
          ],
          "name": "stdout"
        }
      ]
    },
    {
      "cell_type": "code",
      "metadata": {
        "colab": {
          "base_uri": "https://localhost:8080/"
        },
        "id": "j0lY0D-6TAvR",
        "outputId": "1bc76bcd-411e-4496-e27f-dd81c38ac755"
      },
      "source": [
        "dataset=dataset.reduce(10, lambda state, value: state + value)\n",
        "dataset"
      ],
      "execution_count": 4,
      "outputs": [
        {
          "output_type": "execute_result",
          "data": {
            "text/plain": [
              "<tf.Tensor: shape=(), dtype=int32, numpy=28>"
            ]
          },
          "metadata": {
            "tags": []
          },
          "execution_count": 4
        }
      ]
    },
    {
      "cell_type": "code",
      "metadata": {
        "colab": {
          "base_uri": "https://localhost:8080/"
        },
        "id": "nLvsmweoTA13",
        "outputId": "23a3fdce-f3ff-48af-8d17-da60b1babc2d"
      },
      "source": [
        "dataset1 = tf.data.Dataset.from_tensor_slices(tf.random.uniform([4, 10],maxval=5,dtype=tf.int32))\n",
        "\n",
        "print(dataset1)"
      ],
      "execution_count": 5,
      "outputs": [
        {
          "output_type": "stream",
          "text": [
            "<TensorSliceDataset shapes: (10,), types: tf.int32>\n"
          ],
          "name": "stdout"
        }
      ]
    },
    {
      "cell_type": "code",
      "metadata": {
        "colab": {
          "base_uri": "https://localhost:8080/"
        },
        "id": "-DpZ7bTMVmRj",
        "outputId": "d5d757c0-fbed-4c66-cecf-f3d158ff160f"
      },
      "source": [
        "for z in dataset1:\n",
        "  print(z.numpy())"
      ],
      "execution_count": 6,
      "outputs": [
        {
          "output_type": "stream",
          "text": [
            "[1 4 1 4 4 2 1 4 2 3]\n",
            "[0 4 2 2 3 2 1 1 4 4]\n",
            "[3 1 2 4 3 4 1 2 4 1]\n",
            "[2 2 3 3 2 1 3 0 2 4]\n"
          ],
          "name": "stdout"
        }
      ]
    },
    {
      "cell_type": "code",
      "metadata": {
        "colab": {
          "base_uri": "https://localhost:8080/"
        },
        "id": "w1Z1Y32RTA5S",
        "outputId": "512f47b8-eedc-412f-ab17-abce18c40493"
      },
      "source": [
        "dataset2 = tf.data.Dataset.from_tensor_slices(\n",
        "   (tf.random.uniform([4],maxval=4,dtype=tf.int32),\n",
        "    tf.random.uniform([4, 10], maxval=100, dtype=tf.int32)))\n",
        "\n",
        "dataset2"
      ],
      "execution_count": 7,
      "outputs": [
        {
          "output_type": "execute_result",
          "data": {
            "text/plain": [
              "<TensorSliceDataset shapes: ((), (10,)), types: (tf.int32, tf.int32)>"
            ]
          },
          "metadata": {
            "tags": []
          },
          "execution_count": 7
        }
      ]
    },
    {
      "cell_type": "code",
      "metadata": {
        "colab": {
          "base_uri": "https://localhost:8080/"
        },
        "id": "JmrPjfjcViTA",
        "outputId": "6cb69b2f-1520-4bf5-efcd-9a7432ab7942"
      },
      "source": [
        "for z in dataset2:\n",
        "  print(z)"
      ],
      "execution_count": 8,
      "outputs": [
        {
          "output_type": "stream",
          "text": [
            "(<tf.Tensor: shape=(), dtype=int32, numpy=1>, <tf.Tensor: shape=(10,), dtype=int32, numpy=array([65, 72, 21, 98, 43,  5,  2, 93, 88, 40], dtype=int32)>)\n",
            "(<tf.Tensor: shape=(), dtype=int32, numpy=2>, <tf.Tensor: shape=(10,), dtype=int32, numpy=array([99, 65, 63, 59, 37,  4, 99, 80, 63, 20], dtype=int32)>)\n",
            "(<tf.Tensor: shape=(), dtype=int32, numpy=3>, <tf.Tensor: shape=(10,), dtype=int32, numpy=array([ 6, 47, 39, 88, 84, 42, 59, 34, 78, 87], dtype=int32)>)\n",
            "(<tf.Tensor: shape=(), dtype=int32, numpy=2>, <tf.Tensor: shape=(10,), dtype=int32, numpy=array([18, 52, 94, 68, 43, 65, 23, 66, 95, 65], dtype=int32)>)\n"
          ],
          "name": "stdout"
        }
      ]
    },
    {
      "cell_type": "code",
      "metadata": {
        "id": "DeS5hlnybun5"
      },
      "source": [
        "dataset3=tf.data.Dataset.zip((dataset1,dataset2))"
      ],
      "execution_count": 9,
      "outputs": []
    },
    {
      "cell_type": "code",
      "metadata": {
        "colab": {
          "base_uri": "https://localhost:8080/"
        },
        "id": "qjeqG-hCcGOJ",
        "outputId": "76d14cf3-0a65-4cce-bd3a-3b86c95fc33a"
      },
      "source": [
        "dataset3.element_spec"
      ],
      "execution_count": 10,
      "outputs": [
        {
          "output_type": "execute_result",
          "data": {
            "text/plain": [
              "(TensorSpec(shape=(10,), dtype=tf.int32, name=None),\n",
              " (TensorSpec(shape=(), dtype=tf.int32, name=None),\n",
              "  TensorSpec(shape=(10,), dtype=tf.int32, name=None)))"
            ]
          },
          "metadata": {
            "tags": []
          },
          "execution_count": 10
        }
      ]
    },
    {
      "cell_type": "code",
      "metadata": {
        "colab": {
          "base_uri": "https://localhost:8080/"
        },
        "id": "Esw6b3qRcBDb",
        "outputId": "4fd5dd4e-6506-43a6-f2d8-0e8be5cc3c78"
      },
      "source": [
        "for z in dataset3:\n",
        "  print(z)"
      ],
      "execution_count": 11,
      "outputs": [
        {
          "output_type": "stream",
          "text": [
            "(<tf.Tensor: shape=(10,), dtype=int32, numpy=array([1, 4, 1, 4, 4, 2, 1, 4, 2, 3], dtype=int32)>, (<tf.Tensor: shape=(), dtype=int32, numpy=1>, <tf.Tensor: shape=(10,), dtype=int32, numpy=array([65, 72, 21, 98, 43,  5,  2, 93, 88, 40], dtype=int32)>))\n",
            "(<tf.Tensor: shape=(10,), dtype=int32, numpy=array([0, 4, 2, 2, 3, 2, 1, 1, 4, 4], dtype=int32)>, (<tf.Tensor: shape=(), dtype=int32, numpy=2>, <tf.Tensor: shape=(10,), dtype=int32, numpy=array([99, 65, 63, 59, 37,  4, 99, 80, 63, 20], dtype=int32)>))\n",
            "(<tf.Tensor: shape=(10,), dtype=int32, numpy=array([3, 1, 2, 4, 3, 4, 1, 2, 4, 1], dtype=int32)>, (<tf.Tensor: shape=(), dtype=int32, numpy=3>, <tf.Tensor: shape=(10,), dtype=int32, numpy=array([ 6, 47, 39, 88, 84, 42, 59, 34, 78, 87], dtype=int32)>))\n",
            "(<tf.Tensor: shape=(10,), dtype=int32, numpy=array([2, 2, 3, 3, 2, 1, 3, 0, 2, 4], dtype=int32)>, (<tf.Tensor: shape=(), dtype=int32, numpy=2>, <tf.Tensor: shape=(10,), dtype=int32, numpy=array([18, 52, 94, 68, 43, 65, 23, 66, 95, 65], dtype=int32)>))\n"
          ],
          "name": "stdout"
        }
      ]
    },
    {
      "cell_type": "code",
      "metadata": {
        "id": "FBv-FmbVcUY-"
      },
      "source": [
        "#Sparse tensor:Tensor having all values 0 except the defined ones"
      ],
      "execution_count": 12,
      "outputs": []
    },
    {
      "cell_type": "code",
      "metadata": {
        "colab": {
          "base_uri": "https://localhost:8080/"
        },
        "id": "i6dGIQGUcUuR",
        "outputId": "35f3b18a-16e8-4d20-a508-2545dddbbf70"
      },
      "source": [
        "dataset4 = tf.data.Dataset.from_tensors(tf.SparseTensor(indices=[[0, 0], [1, 2]], values=[1, 2], dense_shape=[3, 4]))\n",
        "\n",
        "dataset4.element_spec"
      ],
      "execution_count": 13,
      "outputs": [
        {
          "output_type": "execute_result",
          "data": {
            "text/plain": [
              "SparseTensorSpec(TensorShape([3, 4]), tf.int32)"
            ]
          },
          "metadata": {
            "tags": []
          },
          "execution_count": 13
        }
      ]
    },
    {
      "cell_type": "code",
      "metadata": {
        "colab": {
          "base_uri": "https://localhost:8080/"
        },
        "id": "zf5N0EXmf5IX",
        "outputId": "ae7d4b2c-3d31-46c8-b127-8f981dd0826f"
      },
      "source": [
        "for z in dataset4:\n",
        "  print(z)"
      ],
      "execution_count": 14,
      "outputs": [
        {
          "output_type": "stream",
          "text": [
            "SparseTensor(indices=tf.Tensor(\n",
            "[[0 0]\n",
            " [1 2]], shape=(2, 2), dtype=int64), values=tf.Tensor([1 2], shape=(2,), dtype=int32), dense_shape=tf.Tensor([3 4], shape=(2,), dtype=int64))\n"
          ],
          "name": "stdout"
        }
      ]
    },
    {
      "cell_type": "code",
      "metadata": {
        "colab": {
          "base_uri": "https://localhost:8080/"
        },
        "id": "pJtvpbZShIzZ",
        "outputId": "dfb6e985-6992-4435-fb59-eec8279930b1"
      },
      "source": [
        "DATA_URL = 'https://storage.googleapis.com/tensorflow/tf-keras-datasets/mnist.npz'\n",
        "\n",
        "path = tf.keras.utils.get_file('mnist.npz', DATA_URL)\n",
        "print(path)\n",
        "with np.load(path) as data:\n",
        "  train_examples = data['x_train']\n",
        "  train_labels = data['y_train']\n",
        "  test_examples = data['x_test']\n",
        "  test_labels = data['y_test']"
      ],
      "execution_count": 15,
      "outputs": [
        {
          "output_type": "stream",
          "text": [
            "Downloading data from https://storage.googleapis.com/tensorflow/tf-keras-datasets/mnist.npz\n",
            "11493376/11490434 [==============================] - 0s 0us/step\n",
            "/root/.keras/datasets/mnist.npz\n"
          ],
          "name": "stdout"
        }
      ]
    },
    {
      "cell_type": "code",
      "metadata": {
        "id": "uWUC1cClhh3O"
      },
      "source": [
        "train_dataset = tf.data.Dataset.from_tensor_slices((train_examples, train_labels))\n",
        "test_dataset = tf.data.Dataset.from_tensor_slices((test_examples, test_labels))"
      ],
      "execution_count": 16,
      "outputs": []
    },
    {
      "cell_type": "code",
      "metadata": {
        "id": "ITZpzjYwjI95"
      },
      "source": [
        "BATCH_SIZE = 64\n",
        "SHUFFLE_BUFFER_SIZE = 100\n",
        "\n",
        "train_dataset = train_dataset.shuffle(SHUFFLE_BUFFER_SIZE).batch(BATCH_SIZE)\n",
        "test_dataset = test_dataset.batch(BATCH_SIZE)"
      ],
      "execution_count": 17,
      "outputs": []
    },
    {
      "cell_type": "code",
      "metadata": {
        "colab": {
          "base_uri": "https://localhost:8080/"
        },
        "id": "KficvofvR8VK",
        "outputId": "27362564-509e-4cec-d19a-50a445decf0f"
      },
      "source": [
        "tf.random.uniform([4])"
      ],
      "execution_count": 18,
      "outputs": [
        {
          "output_type": "execute_result",
          "data": {
            "text/plain": [
              "<tf.Tensor: shape=(4,), dtype=float32, numpy=array([0.2220447 , 0.40319335, 0.15863192, 0.5274366 ], dtype=float32)>"
            ]
          },
          "metadata": {
            "tags": []
          },
          "execution_count": 18
        }
      ]
    },
    {
      "cell_type": "code",
      "metadata": {
        "colab": {
          "base_uri": "https://localhost:8080/"
        },
        "id": "PArjHgBXSau7",
        "outputId": "fc72be0c-360b-4224-85a9-c847497df962"
      },
      "source": [
        "print(tf.SparseTensor(indices=[[1, 0], [2, 2]], values=[4, 6], dense_shape=[10, 4]))"
      ],
      "execution_count": 19,
      "outputs": [
        {
          "output_type": "stream",
          "text": [
            "SparseTensor(indices=tf.Tensor(\n",
            "[[1 0]\n",
            " [2 2]], shape=(2, 2), dtype=int64), values=tf.Tensor([4 6], shape=(2,), dtype=int32), dense_shape=tf.Tensor([10  4], shape=(2,), dtype=int64))\n"
          ],
          "name": "stdout"
        }
      ]
    },
    {
      "cell_type": "code",
      "metadata": {
        "colab": {
          "base_uri": "https://localhost:8080/"
        },
        "id": "lHk8KqURSa3L",
        "outputId": "c1c42050-059d-4d56-b924-fe07d664fba2"
      },
      "source": [
        "train, test = tf.keras.datasets.fashion_mnist.load_data()"
      ],
      "execution_count": 20,
      "outputs": [
        {
          "output_type": "stream",
          "text": [
            "Downloading data from https://storage.googleapis.com/tensorflow/tf-keras-datasets/train-labels-idx1-ubyte.gz\n",
            "32768/29515 [=================================] - 0s 0us/step\n",
            "Downloading data from https://storage.googleapis.com/tensorflow/tf-keras-datasets/train-images-idx3-ubyte.gz\n",
            "26427392/26421880 [==============================] - 0s 0us/step\n",
            "Downloading data from https://storage.googleapis.com/tensorflow/tf-keras-datasets/t10k-labels-idx1-ubyte.gz\n",
            "8192/5148 [===============================================] - 0s 0us/step\n",
            "Downloading data from https://storage.googleapis.com/tensorflow/tf-keras-datasets/t10k-images-idx3-ubyte.gz\n",
            "4423680/4422102 [==============================] - 0s 0us/step\n"
          ],
          "name": "stdout"
        }
      ]
    },
    {
      "cell_type": "code",
      "metadata": {
        "colab": {
          "base_uri": "https://localhost:8080/"
        },
        "id": "2bL2FOZ_Sa7E",
        "outputId": "e1632cb7-dc60-4948-f140-619b8f988503"
      },
      "source": [
        "images, labels = train\n",
        "images = images/255\n",
        "\n",
        "dataset = tf.data.Dataset.from_tensor_slices((images, labels))\n",
        "dataset"
      ],
      "execution_count": 21,
      "outputs": [
        {
          "output_type": "execute_result",
          "data": {
            "text/plain": [
              "<TensorSliceDataset shapes: ((28, 28), ()), types: (tf.float64, tf.uint8)>"
            ]
          },
          "metadata": {
            "tags": []
          },
          "execution_count": 21
        }
      ]
    },
    {
      "cell_type": "code",
      "metadata": {
        "colab": {
          "base_uri": "https://localhost:8080/"
        },
        "id": "uoBdA_bmSbCJ",
        "outputId": "b8e447e9-05ff-45aa-ce9d-792f7aaaf3b6"
      },
      "source": [
        "for z in dataset.take(1):\n",
        "  print(z)"
      ],
      "execution_count": 29,
      "outputs": [
        {
          "output_type": "stream",
          "text": [
            "(<tf.Tensor: shape=(28, 28), dtype=float64, numpy=\n",
            "array([[0.        , 0.        , 0.        , 0.        , 0.        ,\n",
            "        0.        , 0.        , 0.        , 0.        , 0.        ,\n",
            "        0.        , 0.        , 0.        , 0.        , 0.        ,\n",
            "        0.        , 0.        , 0.        , 0.        , 0.        ,\n",
            "        0.        , 0.        , 0.        , 0.        , 0.        ,\n",
            "        0.        , 0.        , 0.        ],\n",
            "       [0.        , 0.        , 0.        , 0.        , 0.        ,\n",
            "        0.        , 0.        , 0.        , 0.        , 0.        ,\n",
            "        0.        , 0.        , 0.        , 0.        , 0.        ,\n",
            "        0.        , 0.        , 0.        , 0.        , 0.        ,\n",
            "        0.        , 0.        , 0.        , 0.        , 0.        ,\n",
            "        0.        , 0.        , 0.        ],\n",
            "       [0.        , 0.        , 0.        , 0.        , 0.        ,\n",
            "        0.        , 0.        , 0.        , 0.        , 0.        ,\n",
            "        0.        , 0.        , 0.        , 0.        , 0.        ,\n",
            "        0.        , 0.        , 0.        , 0.        , 0.        ,\n",
            "        0.        , 0.        , 0.        , 0.        , 0.        ,\n",
            "        0.        , 0.        , 0.        ],\n",
            "       [0.        , 0.        , 0.        , 0.        , 0.        ,\n",
            "        0.        , 0.        , 0.        , 0.        , 0.        ,\n",
            "        0.        , 0.        , 0.00392157, 0.        , 0.        ,\n",
            "        0.05098039, 0.28627451, 0.        , 0.        , 0.00392157,\n",
            "        0.01568627, 0.        , 0.        , 0.        , 0.        ,\n",
            "        0.00392157, 0.00392157, 0.        ],\n",
            "       [0.        , 0.        , 0.        , 0.        , 0.        ,\n",
            "        0.        , 0.        , 0.        , 0.        , 0.        ,\n",
            "        0.        , 0.        , 0.01176471, 0.        , 0.14117647,\n",
            "        0.53333333, 0.49803922, 0.24313725, 0.21176471, 0.        ,\n",
            "        0.        , 0.        , 0.00392157, 0.01176471, 0.01568627,\n",
            "        0.        , 0.        , 0.01176471],\n",
            "       [0.        , 0.        , 0.        , 0.        , 0.        ,\n",
            "        0.        , 0.        , 0.        , 0.        , 0.        ,\n",
            "        0.        , 0.        , 0.02352941, 0.        , 0.4       ,\n",
            "        0.8       , 0.69019608, 0.5254902 , 0.56470588, 0.48235294,\n",
            "        0.09019608, 0.        , 0.        , 0.        , 0.        ,\n",
            "        0.04705882, 0.03921569, 0.        ],\n",
            "       [0.        , 0.        , 0.        , 0.        , 0.        ,\n",
            "        0.        , 0.        , 0.        , 0.        , 0.        ,\n",
            "        0.        , 0.        , 0.        , 0.        , 0.60784314,\n",
            "        0.9254902 , 0.81176471, 0.69803922, 0.41960784, 0.61176471,\n",
            "        0.63137255, 0.42745098, 0.25098039, 0.09019608, 0.30196078,\n",
            "        0.50980392, 0.28235294, 0.05882353],\n",
            "       [0.        , 0.        , 0.        , 0.        , 0.        ,\n",
            "        0.        , 0.        , 0.        , 0.        , 0.        ,\n",
            "        0.        , 0.00392157, 0.        , 0.27058824, 0.81176471,\n",
            "        0.8745098 , 0.85490196, 0.84705882, 0.84705882, 0.63921569,\n",
            "        0.49803922, 0.4745098 , 0.47843137, 0.57254902, 0.55294118,\n",
            "        0.34509804, 0.6745098 , 0.25882353],\n",
            "       [0.        , 0.        , 0.        , 0.        , 0.        ,\n",
            "        0.        , 0.        , 0.        , 0.        , 0.00392157,\n",
            "        0.00392157, 0.00392157, 0.        , 0.78431373, 0.90980392,\n",
            "        0.90980392, 0.91372549, 0.89803922, 0.8745098 , 0.8745098 ,\n",
            "        0.84313725, 0.83529412, 0.64313725, 0.49803922, 0.48235294,\n",
            "        0.76862745, 0.89803922, 0.        ],\n",
            "       [0.        , 0.        , 0.        , 0.        , 0.        ,\n",
            "        0.        , 0.        , 0.        , 0.        , 0.        ,\n",
            "        0.        , 0.        , 0.        , 0.71764706, 0.88235294,\n",
            "        0.84705882, 0.8745098 , 0.89411765, 0.92156863, 0.89019608,\n",
            "        0.87843137, 0.87058824, 0.87843137, 0.86666667, 0.8745098 ,\n",
            "        0.96078431, 0.67843137, 0.        ],\n",
            "       [0.        , 0.        , 0.        , 0.        , 0.        ,\n",
            "        0.        , 0.        , 0.        , 0.        , 0.        ,\n",
            "        0.        , 0.        , 0.        , 0.75686275, 0.89411765,\n",
            "        0.85490196, 0.83529412, 0.77647059, 0.70588235, 0.83137255,\n",
            "        0.82352941, 0.82745098, 0.83529412, 0.8745098 , 0.8627451 ,\n",
            "        0.95294118, 0.79215686, 0.        ],\n",
            "       [0.        , 0.        , 0.        , 0.        , 0.        ,\n",
            "        0.        , 0.        , 0.        , 0.        , 0.00392157,\n",
            "        0.01176471, 0.        , 0.04705882, 0.85882353, 0.8627451 ,\n",
            "        0.83137255, 0.85490196, 0.75294118, 0.6627451 , 0.89019608,\n",
            "        0.81568627, 0.85490196, 0.87843137, 0.83137255, 0.88627451,\n",
            "        0.77254902, 0.81960784, 0.20392157],\n",
            "       [0.        , 0.        , 0.        , 0.        , 0.        ,\n",
            "        0.        , 0.        , 0.        , 0.        , 0.        ,\n",
            "        0.02352941, 0.        , 0.38823529, 0.95686275, 0.87058824,\n",
            "        0.8627451 , 0.85490196, 0.79607843, 0.77647059, 0.86666667,\n",
            "        0.84313725, 0.83529412, 0.87058824, 0.8627451 , 0.96078431,\n",
            "        0.46666667, 0.65490196, 0.21960784],\n",
            "       [0.        , 0.        , 0.        , 0.        , 0.        ,\n",
            "        0.        , 0.        , 0.        , 0.        , 0.01568627,\n",
            "        0.        , 0.        , 0.21568627, 0.9254902 , 0.89411765,\n",
            "        0.90196078, 0.89411765, 0.94117647, 0.90980392, 0.83529412,\n",
            "        0.85490196, 0.8745098 , 0.91764706, 0.85098039, 0.85098039,\n",
            "        0.81960784, 0.36078431, 0.        ],\n",
            "       [0.        , 0.        , 0.00392157, 0.01568627, 0.02352941,\n",
            "        0.02745098, 0.00784314, 0.        , 0.        , 0.        ,\n",
            "        0.        , 0.        , 0.92941176, 0.88627451, 0.85098039,\n",
            "        0.8745098 , 0.87058824, 0.85882353, 0.87058824, 0.86666667,\n",
            "        0.84705882, 0.8745098 , 0.89803922, 0.84313725, 0.85490196,\n",
            "        1.        , 0.30196078, 0.        ],\n",
            "       [0.        , 0.01176471, 0.        , 0.        , 0.        ,\n",
            "        0.        , 0.        , 0.        , 0.        , 0.24313725,\n",
            "        0.56862745, 0.8       , 0.89411765, 0.81176471, 0.83529412,\n",
            "        0.86666667, 0.85490196, 0.81568627, 0.82745098, 0.85490196,\n",
            "        0.87843137, 0.8745098 , 0.85882353, 0.84313725, 0.87843137,\n",
            "        0.95686275, 0.62352941, 0.        ],\n",
            "       [0.        , 0.        , 0.        , 0.        , 0.07058824,\n",
            "        0.17254902, 0.32156863, 0.41960784, 0.74117647, 0.89411765,\n",
            "        0.8627451 , 0.87058824, 0.85098039, 0.88627451, 0.78431373,\n",
            "        0.80392157, 0.82745098, 0.90196078, 0.87843137, 0.91764706,\n",
            "        0.69019608, 0.7372549 , 0.98039216, 0.97254902, 0.91372549,\n",
            "        0.93333333, 0.84313725, 0.        ],\n",
            "       [0.        , 0.22352941, 0.73333333, 0.81568627, 0.87843137,\n",
            "        0.86666667, 0.87843137, 0.81568627, 0.8       , 0.83921569,\n",
            "        0.81568627, 0.81960784, 0.78431373, 0.62352941, 0.96078431,\n",
            "        0.75686275, 0.80784314, 0.8745098 , 1.        , 1.        ,\n",
            "        0.86666667, 0.91764706, 0.86666667, 0.82745098, 0.8627451 ,\n",
            "        0.90980392, 0.96470588, 0.        ],\n",
            "       [0.01176471, 0.79215686, 0.89411765, 0.87843137, 0.86666667,\n",
            "        0.82745098, 0.82745098, 0.83921569, 0.80392157, 0.80392157,\n",
            "        0.80392157, 0.8627451 , 0.94117647, 0.31372549, 0.58823529,\n",
            "        1.        , 0.89803922, 0.86666667, 0.7372549 , 0.60392157,\n",
            "        0.74901961, 0.82352941, 0.8       , 0.81960784, 0.87058824,\n",
            "        0.89411765, 0.88235294, 0.        ],\n",
            "       [0.38431373, 0.91372549, 0.77647059, 0.82352941, 0.87058824,\n",
            "        0.89803922, 0.89803922, 0.91764706, 0.97647059, 0.8627451 ,\n",
            "        0.76078431, 0.84313725, 0.85098039, 0.94509804, 0.25490196,\n",
            "        0.28627451, 0.41568627, 0.45882353, 0.65882353, 0.85882353,\n",
            "        0.86666667, 0.84313725, 0.85098039, 0.8745098 , 0.8745098 ,\n",
            "        0.87843137, 0.89803922, 0.11372549],\n",
            "       [0.29411765, 0.8       , 0.83137255, 0.8       , 0.75686275,\n",
            "        0.80392157, 0.82745098, 0.88235294, 0.84705882, 0.7254902 ,\n",
            "        0.77254902, 0.80784314, 0.77647059, 0.83529412, 0.94117647,\n",
            "        0.76470588, 0.89019608, 0.96078431, 0.9372549 , 0.8745098 ,\n",
            "        0.85490196, 0.83137255, 0.81960784, 0.87058824, 0.8627451 ,\n",
            "        0.86666667, 0.90196078, 0.2627451 ],\n",
            "       [0.18823529, 0.79607843, 0.71764706, 0.76078431, 0.83529412,\n",
            "        0.77254902, 0.7254902 , 0.74509804, 0.76078431, 0.75294118,\n",
            "        0.79215686, 0.83921569, 0.85882353, 0.86666667, 0.8627451 ,\n",
            "        0.9254902 , 0.88235294, 0.84705882, 0.78039216, 0.80784314,\n",
            "        0.72941176, 0.70980392, 0.69411765, 0.6745098 , 0.70980392,\n",
            "        0.80392157, 0.80784314, 0.45098039],\n",
            "       [0.        , 0.47843137, 0.85882353, 0.75686275, 0.70196078,\n",
            "        0.67058824, 0.71764706, 0.76862745, 0.8       , 0.82352941,\n",
            "        0.83529412, 0.81176471, 0.82745098, 0.82352941, 0.78431373,\n",
            "        0.76862745, 0.76078431, 0.74901961, 0.76470588, 0.74901961,\n",
            "        0.77647059, 0.75294118, 0.69019608, 0.61176471, 0.65490196,\n",
            "        0.69411765, 0.82352941, 0.36078431],\n",
            "       [0.        , 0.        , 0.29019608, 0.74117647, 0.83137255,\n",
            "        0.74901961, 0.68627451, 0.6745098 , 0.68627451, 0.70980392,\n",
            "        0.7254902 , 0.7372549 , 0.74117647, 0.7372549 , 0.75686275,\n",
            "        0.77647059, 0.8       , 0.81960784, 0.82352941, 0.82352941,\n",
            "        0.82745098, 0.7372549 , 0.7372549 , 0.76078431, 0.75294118,\n",
            "        0.84705882, 0.66666667, 0.        ],\n",
            "       [0.00784314, 0.        , 0.        , 0.        , 0.25882353,\n",
            "        0.78431373, 0.87058824, 0.92941176, 0.9372549 , 0.94901961,\n",
            "        0.96470588, 0.95294118, 0.95686275, 0.86666667, 0.8627451 ,\n",
            "        0.75686275, 0.74901961, 0.70196078, 0.71372549, 0.71372549,\n",
            "        0.70980392, 0.69019608, 0.65098039, 0.65882353, 0.38823529,\n",
            "        0.22745098, 0.        , 0.        ],\n",
            "       [0.        , 0.        , 0.        , 0.        , 0.        ,\n",
            "        0.        , 0.        , 0.15686275, 0.23921569, 0.17254902,\n",
            "        0.28235294, 0.16078431, 0.1372549 , 0.        , 0.        ,\n",
            "        0.        , 0.        , 0.        , 0.        , 0.        ,\n",
            "        0.        , 0.        , 0.        , 0.        , 0.        ,\n",
            "        0.        , 0.        , 0.        ],\n",
            "       [0.        , 0.        , 0.        , 0.        , 0.        ,\n",
            "        0.        , 0.        , 0.        , 0.        , 0.        ,\n",
            "        0.        , 0.        , 0.        , 0.        , 0.        ,\n",
            "        0.        , 0.        , 0.        , 0.        , 0.        ,\n",
            "        0.        , 0.        , 0.        , 0.        , 0.        ,\n",
            "        0.        , 0.        , 0.        ],\n",
            "       [0.        , 0.        , 0.        , 0.        , 0.        ,\n",
            "        0.        , 0.        , 0.        , 0.        , 0.        ,\n",
            "        0.        , 0.        , 0.        , 0.        , 0.        ,\n",
            "        0.        , 0.        , 0.        , 0.        , 0.        ,\n",
            "        0.        , 0.        , 0.        , 0.        , 0.        ,\n",
            "        0.        , 0.        , 0.        ]])>, <tf.Tensor: shape=(), dtype=uint8, numpy=9>)\n"
          ],
          "name": "stdout"
        }
      ]
    },
    {
      "cell_type": "code",
      "metadata": {
        "id": "h1WdymY8O5ZA"
      },
      "source": [
        "# download data"
      ],
      "execution_count": null,
      "outputs": []
    },
    {
      "cell_type": "code",
      "metadata": {
        "colab": {
          "base_uri": "https://localhost:8080/"
        },
        "id": "jhKeLbZVc83H",
        "outputId": "4849f91e-9cd6-4a73-9ccf-843a903cd76b"
      },
      "source": [
        "flowers = tf.keras.utils.get_file(\n",
        "    'flower_photos',\n",
        "    'https://storage.googleapis.com/download.tensorflow.org/example_images/flower_photos.tgz',\n",
        "    untar=True)\n"
      ],
      "execution_count": 24,
      "outputs": [
        {
          "output_type": "stream",
          "text": [
            "Downloading data from https://storage.googleapis.com/download.tensorflow.org/example_images/flower_photos.tgz\n",
            "228818944/228813984 [==============================] - 2s 0us/step\n"
          ],
          "name": "stdout"
        }
      ]
    },
    {
      "cell_type": "code",
      "metadata": {
        "id": "vlXdHPo1OnKC"
      },
      "source": [
        "img_gen = tf.keras.preprocessing.image.ImageDataGenerator(rescale=1./255, rotation_range=20)"
      ],
      "execution_count": 25,
      "outputs": []
    },
    {
      "cell_type": "code",
      "metadata": {
        "colab": {
          "base_uri": "https://localhost:8080/"
        },
        "id": "xSCmxGhuSUN5",
        "outputId": "dd248c83-dd23-4f47-b5ee-380066212f6d"
      },
      "source": [
        "images, labels = next(img_gen.flow_from_directory(flowers))"
      ],
      "execution_count": 27,
      "outputs": [
        {
          "output_type": "stream",
          "text": [
            "Found 3670 images belonging to 5 classes.\n"
          ],
          "name": "stdout"
        }
      ]
    },
    {
      "cell_type": "code",
      "metadata": {
        "colab": {
          "base_uri": "https://localhost:8080/"
        },
        "id": "NoHNiTMhRj--",
        "outputId": "c3f02ac2-40d9-4d43-da79-e31a5ea5b70c"
      },
      "source": [
        "print(images.dtype, images.shape)\n",
        "print(labels.dtype, labels.shape)"
      ],
      "execution_count": 28,
      "outputs": [
        {
          "output_type": "stream",
          "text": [
            "float32 (32, 256, 256, 3)\n",
            "float32 (32, 5)\n"
          ],
          "name": "stdout"
        }
      ]
    }
  ]
}