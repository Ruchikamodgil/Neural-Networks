{
  "nbformat": 4,
  "nbformat_minor": 0,
  "metadata": {
    "colab": {
      "name": "Text Generation with RNN",
      "provenance": []
    },
    "kernelspec": {
      "name": "python3",
      "display_name": "Python 3"
    },
    "accelerator": "GPU"
  },
  "cells": [
    {
      "cell_type": "code",
      "metadata": {
        "id": "QjGOZPYQBq8g"
      },
      "source": [
        "import tensorflow as tf"
      ],
      "execution_count": null,
      "outputs": []
    },
    {
      "cell_type": "code",
      "metadata": {
        "id": "NK-aGgZpIpQN"
      },
      "source": [
        "from tensorflow import keras"
      ],
      "execution_count": null,
      "outputs": []
    },
    {
      "cell_type": "code",
      "metadata": {
        "colab": {
          "base_uri": "https://localhost:8080/"
        },
        "id": "xJjlLpaGIpTh",
        "outputId": "29a97741-1dd2-416a-a958-9b16b7e64f55"
      },
      "source": [
        "path_to_file = tf.keras.utils.get_file('shakespeare.txt', 'https://storage.googleapis.com/download.tensorflow.org/data/shakespeare.txt')"
      ],
      "execution_count": null,
      "outputs": [
        {
          "output_type": "stream",
          "text": [
            "Downloading data from https://storage.googleapis.com/download.tensorflow.org/data/shakespeare.txt\n",
            "1122304/1115394 [==============================] - 0s 0us/step\n"
          ],
          "name": "stdout"
        }
      ]
    },
    {
      "cell_type": "code",
      "metadata": {
        "colab": {
          "base_uri": "https://localhost:8080/"
        },
        "id": "v_Tmf_XIIpWb",
        "outputId": "8c90f601-2b3f-4be1-a99d-3ce3dff367cb"
      },
      "source": [
        "text = open(path_to_file, 'rb').read().decode(encoding='utf-8')\n",
        "print(text[:15])"
      ],
      "execution_count": null,
      "outputs": [
        {
          "output_type": "stream",
          "text": [
            "First Citizen:\n",
            "\n"
          ],
          "name": "stdout"
        }
      ]
    },
    {
      "cell_type": "code",
      "metadata": {
        "colab": {
          "base_uri": "https://localhost:8080/"
        },
        "id": "VTAgTBIxIpZZ",
        "outputId": "38ec0e2e-8d63-4552-8bfe-099261f7e33a"
      },
      "source": [
        "# Take a look at the first 250 characters in text\n",
        "print(text[:250])"
      ],
      "execution_count": null,
      "outputs": [
        {
          "output_type": "stream",
          "text": [
            "First Citizen:\n",
            "Before we proceed any further, hear me speak.\n",
            "\n",
            "All:\n",
            "Speak, speak.\n",
            "\n",
            "First Citizen:\n",
            "You are all resolved rather to die than to famish?\n",
            "\n",
            "All:\n",
            "Resolved. resolved.\n",
            "\n",
            "First Citizen:\n",
            "First, you know Caius Marcius is chief enemy to the people.\n",
            "\n"
          ],
          "name": "stdout"
        }
      ]
    },
    {
      "cell_type": "code",
      "metadata": {
        "colab": {
          "base_uri": "https://localhost:8080/"
        },
        "id": "0-mtGc2EIpcH",
        "outputId": "e20042e2-1e85-498c-b720-beb232df94f7"
      },
      "source": [
        "# The unique characters in the file\n",
        "vocab = sorted(set(text))\n",
        "print(vocab)"
      ],
      "execution_count": null,
      "outputs": [
        {
          "output_type": "stream",
          "text": [
            "['\\n', ' ', '!', '$', '&', \"'\", ',', '-', '.', '3', ':', ';', '?', 'A', 'B', 'C', 'D', 'E', 'F', 'G', 'H', 'I', 'J', 'K', 'L', 'M', 'N', 'O', 'P', 'Q', 'R', 'S', 'T', 'U', 'V', 'W', 'X', 'Y', 'Z', 'a', 'b', 'c', 'd', 'e', 'f', 'g', 'h', 'i', 'j', 'k', 'l', 'm', 'n', 'o', 'p', 'q', 'r', 's', 't', 'u', 'v', 'w', 'x', 'y', 'z']\n"
          ],
          "name": "stdout"
        }
      ]
    },
    {
      "cell_type": "code",
      "metadata": {
        "id": "xM6el9OyIpe5"
      },
      "source": [
        "char2idx = {u:i for i, u in enumerate(vocab)}\n",
        "import numpy as np"
      ],
      "execution_count": null,
      "outputs": []
    },
    {
      "cell_type": "code",
      "metadata": {
        "colab": {
          "base_uri": "https://localhost:8080/"
        },
        "id": "M2bbYmX_Iph_",
        "outputId": "16da078e-69f2-4431-b931-843b6ad6d823"
      },
      "source": [
        "idx2char = np.array(vocab)\n",
        "idx2char"
      ],
      "execution_count": null,
      "outputs": [
        {
          "output_type": "execute_result",
          "data": {
            "text/plain": [
              "array(['\\n', ' ', '!', '$', '&', \"'\", ',', '-', '.', '3', ':', ';', '?',\n",
              "       'A', 'B', 'C', 'D', 'E', 'F', 'G', 'H', 'I', 'J', 'K', 'L', 'M',\n",
              "       'N', 'O', 'P', 'Q', 'R', 'S', 'T', 'U', 'V', 'W', 'X', 'Y', 'Z',\n",
              "       'a', 'b', 'c', 'd', 'e', 'f', 'g', 'h', 'i', 'j', 'k', 'l', 'm',\n",
              "       'n', 'o', 'p', 'q', 'r', 's', 't', 'u', 'v', 'w', 'x', 'y', 'z'],\n",
              "      dtype='<U1')"
            ]
          },
          "metadata": {
            "tags": []
          },
          "execution_count": 26
        }
      ]
    },
    {
      "cell_type": "code",
      "metadata": {
        "colab": {
          "base_uri": "https://localhost:8080/"
        },
        "id": "y3X6S-VTIpkl",
        "outputId": "cfdcce5e-2654-4feb-e2c7-3362b865dd77"
      },
      "source": [
        "text_as_int = np.array([char2idx[c] for c in text])\n",
        "len(text_as_int)"
      ],
      "execution_count": null,
      "outputs": [
        {
          "output_type": "execute_result",
          "data": {
            "text/plain": [
              "1115394"
            ]
          },
          "metadata": {
            "tags": []
          },
          "execution_count": 15
        }
      ]
    },
    {
      "cell_type": "code",
      "metadata": {
        "colab": {
          "base_uri": "https://localhost:8080/"
        },
        "id": "q4daP8dLIpnS",
        "outputId": "750cc9f8-fb3d-4915-9656-9adfe579b10c"
      },
      "source": [
        "print(text[:15])"
      ],
      "execution_count": null,
      "outputs": [
        {
          "output_type": "stream",
          "text": [
            "First Citizen:\n",
            "\n"
          ],
          "name": "stdout"
        }
      ]
    },
    {
      "cell_type": "code",
      "metadata": {
        "colab": {
          "base_uri": "https://localhost:8080/"
        },
        "id": "qxSWU2tNIpqO",
        "outputId": "cbd049cb-e029-443d-f4a1-919e35d65517"
      },
      "source": [
        "print(text_as_int[:15])"
      ],
      "execution_count": null,
      "outputs": [
        {
          "output_type": "stream",
          "text": [
            "[18 47 56 57 58  1 15 47 58 47 64 43 52 10  0]\n"
          ],
          "name": "stdout"
        }
      ]
    },
    {
      "cell_type": "code",
      "metadata": {
        "colab": {
          "base_uri": "https://localhost:8080/"
        },
        "id": "G7PHnnWKIptj",
        "outputId": "71101be6-a3ca-4328-bb56-39ae1c54600a"
      },
      "source": [
        "char_dataset = tf.data.Dataset.from_tensor_slices(text_as_int)\n",
        "(list(char_dataset.as_numpy_iterator()))"
      ],
      "execution_count": null,
      "outputs": [
        {
          "output_type": "execute_result",
          "data": {
            "text/plain": [
              "[18,\n",
              " 47,\n",
              " 56,\n",
              " 57,\n",
              " 58,\n",
              " 1,\n",
              " 15,\n",
              " 47,\n",
              " 58,\n",
              " 47,\n",
              " 64,\n",
              " 43,\n",
              " 52,\n",
              " 10,\n",
              " 0,\n",
              " 14,\n",
              " 43,\n",
              " 44,\n",
              " 53,\n",
              " 56,\n",
              " 43,\n",
              " 1,\n",
              " 61,\n",
              " 43,\n",
              " 1,\n",
              " 54,\n",
              " 56,\n",
              " 53,\n",
              " 41,\n",
              " 43,\n",
              " 43,\n",
              " 42,\n",
              " 1,\n",
              " 39,\n",
              " 52,\n",
              " 63,\n",
              " 1,\n",
              " 44,\n",
              " 59,\n",
              " 56,\n",
              " 58,\n",
              " 46,\n",
              " 43,\n",
              " 56,\n",
              " 6,\n",
              " 1,\n",
              " 46,\n",
              " 43,\n",
              " 39,\n",
              " 56,\n",
              " 1,\n",
              " 51,\n",
              " 43,\n",
              " 1,\n",
              " 57,\n",
              " 54,\n",
              " 43,\n",
              " 39,\n",
              " 49,\n",
              " 8,\n",
              " 0,\n",
              " 0,\n",
              " 13,\n",
              " 50,\n",
              " 50,\n",
              " 10,\n",
              " 0,\n",
              " 31,\n",
              " 54,\n",
              " 43,\n",
              " 39,\n",
              " 49,\n",
              " 6,\n",
              " 1,\n",
              " 57,\n",
              " 54,\n",
              " 43,\n",
              " 39,\n",
              " 49,\n",
              " 8,\n",
              " 0,\n",
              " 0,\n",
              " 18,\n",
              " 47,\n",
              " 56,\n",
              " 57,\n",
              " 58,\n",
              " 1,\n",
              " 15,\n",
              " 47,\n",
              " 58,\n",
              " 47,\n",
              " 64,\n",
              " 43,\n",
              " 52,\n",
              " 10,\n",
              " 0,\n",
              " 37,\n",
              " 53,\n",
              " 59,\n",
              " 1,\n",
              " 39,\n",
              " 56,\n",
              " 43,\n",
              " 1,\n",
              " 39,\n",
              " 50,\n",
              " 50,\n",
              " 1,\n",
              " 56,\n",
              " 43,\n",
              " 57,\n",
              " 53,\n",
              " 50,\n",
              " 60,\n",
              " 43,\n",
              " 42,\n",
              " 1,\n",
              " 56,\n",
              " 39,\n",
              " 58,\n",
              " 46,\n",
              " 43,\n",
              " 56,\n",
              " 1,\n",
              " 58,\n",
              " 53,\n",
              " 1,\n",
              " 42,\n",
              " 47,\n",
              " 43,\n",
              " 1,\n",
              " 58,\n",
              " 46,\n",
              " 39,\n",
              " 52,\n",
              " 1,\n",
              " 58,\n",
              " 53,\n",
              " 1,\n",
              " 44,\n",
              " 39,\n",
              " 51,\n",
              " 47,\n",
              " 57,\n",
              " 46,\n",
              " 12,\n",
              " 0,\n",
              " 0,\n",
              " 13,\n",
              " 50,\n",
              " 50,\n",
              " 10,\n",
              " 0,\n",
              " 30,\n",
              " 43,\n",
              " 57,\n",
              " 53,\n",
              " 50,\n",
              " 60,\n",
              " 43,\n",
              " 42,\n",
              " 8,\n",
              " 1,\n",
              " 56,\n",
              " 43,\n",
              " 57,\n",
              " 53,\n",
              " 50,\n",
              " 60,\n",
              " 43,\n",
              " 42,\n",
              " 8,\n",
              " 0,\n",
              " 0,\n",
              " 18,\n",
              " 47,\n",
              " 56,\n",
              " 57,\n",
              " 58,\n",
              " 1,\n",
              " 15,\n",
              " 47,\n",
              " 58,\n",
              " 47,\n",
              " 64,\n",
              " 43,\n",
              " 52,\n",
              " 10,\n",
              " 0,\n",
              " 18,\n",
              " 47,\n",
              " 56,\n",
              " 57,\n",
              " 58,\n",
              " 6,\n",
              " 1,\n",
              " 63,\n",
              " 53,\n",
              " 59,\n",
              " 1,\n",
              " 49,\n",
              " 52,\n",
              " 53,\n",
              " 61,\n",
              " 1,\n",
              " 15,\n",
              " 39,\n",
              " 47,\n",
              " 59,\n",
              " 57,\n",
              " 1,\n",
              " 25,\n",
              " 39,\n",
              " 56,\n",
              " 41,\n",
              " 47,\n",
              " 59,\n",
              " 57,\n",
              " 1,\n",
              " 47,\n",
              " 57,\n",
              " 1,\n",
              " 41,\n",
              " 46,\n",
              " 47,\n",
              " 43,\n",
              " 44,\n",
              " 1,\n",
              " 43,\n",
              " 52,\n",
              " 43,\n",
              " 51,\n",
              " 63,\n",
              " 1,\n",
              " 58,\n",
              " 53,\n",
              " 1,\n",
              " 58,\n",
              " 46,\n",
              " 43,\n",
              " 1,\n",
              " 54,\n",
              " 43,\n",
              " 53,\n",
              " 54,\n",
              " 50,\n",
              " 43,\n",
              " 8,\n",
              " 0,\n",
              " 0,\n",
              " 13,\n",
              " 50,\n",
              " 50,\n",
              " 10,\n",
              " 0,\n",
              " 35,\n",
              " 43,\n",
              " 1,\n",
              " 49,\n",
              " 52,\n",
              " 53,\n",
              " 61,\n",
              " 5,\n",
              " 58,\n",
              " 6,\n",
              " 1,\n",
              " 61,\n",
              " 43,\n",
              " 1,\n",
              " 49,\n",
              " 52,\n",
              " 53,\n",
              " 61,\n",
              " 5,\n",
              " 58,\n",
              " 8,\n",
              " 0,\n",
              " 0,\n",
              " 18,\n",
              " 47,\n",
              " 56,\n",
              " 57,\n",
              " 58,\n",
              " 1,\n",
              " 15,\n",
              " 47,\n",
              " 58,\n",
              " 47,\n",
              " 64,\n",
              " 43,\n",
              " 52,\n",
              " 10,\n",
              " 0,\n",
              " 24,\n",
              " 43,\n",
              " 58,\n",
              " 1,\n",
              " 59,\n",
              " 57,\n",
              " 1,\n",
              " 49,\n",
              " 47,\n",
              " 50,\n",
              " 50,\n",
              " 1,\n",
              " 46,\n",
              " 47,\n",
              " 51,\n",
              " 6,\n",
              " 1,\n",
              " 39,\n",
              " 52,\n",
              " 42,\n",
              " 1,\n",
              " 61,\n",
              " 43,\n",
              " 5,\n",
              " 50,\n",
              " 50,\n",
              " 1,\n",
              " 46,\n",
              " 39,\n",
              " 60,\n",
              " 43,\n",
              " 1,\n",
              " 41,\n",
              " 53,\n",
              " 56,\n",
              " 52,\n",
              " 1,\n",
              " 39,\n",
              " 58,\n",
              " 1,\n",
              " 53,\n",
              " 59,\n",
              " 56,\n",
              " 1,\n",
              " 53,\n",
              " 61,\n",
              " 52,\n",
              " 1,\n",
              " 54,\n",
              " 56,\n",
              " 47,\n",
              " 41,\n",
              " 43,\n",
              " 8,\n",
              " 0,\n",
              " 21,\n",
              " 57,\n",
              " 5,\n",
              " 58,\n",
              " 1,\n",
              " 39,\n",
              " 1,\n",
              " 60,\n",
              " 43,\n",
              " 56,\n",
              " 42,\n",
              " 47,\n",
              " 41,\n",
              " 58,\n",
              " 12,\n",
              " 0,\n",
              " 0,\n",
              " 13,\n",
              " 50,\n",
              " 50,\n",
              " 10,\n",
              " 0,\n",
              " 26,\n",
              " 53,\n",
              " 1,\n",
              " 51,\n",
              " 53,\n",
              " 56,\n",
              " 43,\n",
              " 1,\n",
              " 58,\n",
              " 39,\n",
              " 50,\n",
              " 49,\n",
              " 47,\n",
              " 52,\n",
              " 45,\n",
              " 1,\n",
              " 53,\n",
              " 52,\n",
              " 5,\n",
              " 58,\n",
              " 11,\n",
              " 1,\n",
              " 50,\n",
              " 43,\n",
              " 58,\n",
              " 1,\n",
              " 47,\n",
              " 58,\n",
              " 1,\n",
              " 40,\n",
              " 43,\n",
              " 1,\n",
              " 42,\n",
              " 53,\n",
              " 52,\n",
              " 43,\n",
              " 10,\n",
              " 1,\n",
              " 39,\n",
              " 61,\n",
              " 39,\n",
              " 63,\n",
              " 6,\n",
              " 1,\n",
              " 39,\n",
              " 61,\n",
              " 39,\n",
              " 63,\n",
              " 2,\n",
              " 0,\n",
              " 0,\n",
              " 31,\n",
              " 43,\n",
              " 41,\n",
              " 53,\n",
              " 52,\n",
              " 42,\n",
              " 1,\n",
              " 15,\n",
              " 47,\n",
              " 58,\n",
              " 47,\n",
              " 64,\n",
              " 43,\n",
              " 52,\n",
              " 10,\n",
              " 0,\n",
              " 27,\n",
              " 52,\n",
              " 43,\n",
              " 1,\n",
              " 61,\n",
              " 53,\n",
              " 56,\n",
              " 42,\n",
              " 6,\n",
              " 1,\n",
              " 45,\n",
              " 53,\n",
              " 53,\n",
              " 42,\n",
              " 1,\n",
              " 41,\n",
              " 47,\n",
              " 58,\n",
              " 47,\n",
              " 64,\n",
              " 43,\n",
              " 52,\n",
              " 57,\n",
              " 8,\n",
              " 0,\n",
              " 0,\n",
              " 18,\n",
              " 47,\n",
              " 56,\n",
              " 57,\n",
              " 58,\n",
              " 1,\n",
              " 15,\n",
              " 47,\n",
              " 58,\n",
              " 47,\n",
              " 64,\n",
              " 43,\n",
              " 52,\n",
              " 10,\n",
              " 0,\n",
              " 35,\n",
              " 43,\n",
              " 1,\n",
              " 39,\n",
              " 56,\n",
              " 43,\n",
              " 1,\n",
              " 39,\n",
              " 41,\n",
              " 41,\n",
              " 53,\n",
              " 59,\n",
              " 52,\n",
              " 58,\n",
              " 43,\n",
              " 42,\n",
              " 1,\n",
              " 54,\n",
              " 53,\n",
              " 53,\n",
              " 56,\n",
              " 1,\n",
              " 41,\n",
              " 47,\n",
              " 58,\n",
              " 47,\n",
              " 64,\n",
              " 43,\n",
              " 52,\n",
              " 57,\n",
              " 6,\n",
              " 1,\n",
              " 58,\n",
              " 46,\n",
              " 43,\n",
              " 1,\n",
              " 54,\n",
              " 39,\n",
              " 58,\n",
              " 56,\n",
              " 47,\n",
              " 41,\n",
              " 47,\n",
              " 39,\n",
              " 52,\n",
              " 57,\n",
              " 1,\n",
              " 45,\n",
              " 53,\n",
              " 53,\n",
              " 42,\n",
              " 8,\n",
              " 0,\n",
              " 35,\n",
              " 46,\n",
              " 39,\n",
              " 58,\n",
              " 1,\n",
              " 39,\n",
              " 59,\n",
              " 58,\n",
              " 46,\n",
              " 53,\n",
              " 56,\n",
              " 47,\n",
              " 58,\n",
              " 63,\n",
              " 1,\n",
              " 57,\n",
              " 59,\n",
              " 56,\n",
              " 44,\n",
              " 43,\n",
              " 47,\n",
              " 58,\n",
              " 57,\n",
              " 1,\n",
              " 53,\n",
              " 52,\n",
              " 1,\n",
              " 61,\n",
              " 53,\n",
              " 59,\n",
              " 50,\n",
              " 42,\n",
              " 1,\n",
              " 56,\n",
              " 43,\n",
              " 50,\n",
              " 47,\n",
              " 43,\n",
              " 60,\n",
              " 43,\n",
              " 1,\n",
              " 59,\n",
              " 57,\n",
              " 10,\n",
              " 1,\n",
              " 47,\n",
              " 44,\n",
              " 1,\n",
              " 58,\n",
              " 46,\n",
              " 43,\n",
              " 63,\n",
              " 0,\n",
              " 61,\n",
              " 53,\n",
              " 59,\n",
              " 50,\n",
              " 42,\n",
              " 1,\n",
              " 63,\n",
              " 47,\n",
              " 43,\n",
              " 50,\n",
              " 42,\n",
              " 1,\n",
              " 59,\n",
              " 57,\n",
              " 1,\n",
              " 40,\n",
              " 59,\n",
              " 58,\n",
              " 1,\n",
              " 58,\n",
              " 46,\n",
              " 43,\n",
              " 1,\n",
              " 57,\n",
              " 59,\n",
              " 54,\n",
              " 43,\n",
              " 56,\n",
              " 44,\n",
              " 50,\n",
              " 59,\n",
              " 47,\n",
              " 58,\n",
              " 63,\n",
              " 6,\n",
              " 1,\n",
              " 61,\n",
              " 46,\n",
              " 47,\n",
              " 50,\n",
              " 43,\n",
              " 1,\n",
              " 47,\n",
              " 58,\n",
              " 1,\n",
              " 61,\n",
              " 43,\n",
              " 56,\n",
              " 43,\n",
              " 0,\n",
              " 61,\n",
              " 46,\n",
              " 53,\n",
              " 50,\n",
              " 43,\n",
              " 57,\n",
              " 53,\n",
              " 51,\n",
              " 43,\n",
              " 6,\n",
              " 1,\n",
              " 61,\n",
              " 43,\n",
              " 1,\n",
              " 51,\n",
              " 47,\n",
              " 45,\n",
              " 46,\n",
              " 58,\n",
              " 1,\n",
              " 45,\n",
              " 59,\n",
              " 43,\n",
              " 57,\n",
              " 57,\n",
              " 1,\n",
              " 58,\n",
              " 46,\n",
              " 43,\n",
              " 63,\n",
              " 1,\n",
              " 56,\n",
              " 43,\n",
              " 50,\n",
              " 47,\n",
              " 43,\n",
              " 60,\n",
              " 43,\n",
              " 42,\n",
              " 1,\n",
              " 59,\n",
              " 57,\n",
              " 1,\n",
              " 46,\n",
              " 59,\n",
              " 51,\n",
              " 39,\n",
              " 52,\n",
              " 43,\n",
              " 50,\n",
              " 63,\n",
              " 11,\n",
              " 0,\n",
              " 40,\n",
              " 59,\n",
              " 58,\n",
              " 1,\n",
              " 58,\n",
              " 46,\n",
              " 43,\n",
              " 63,\n",
              " 1,\n",
              " 58,\n",
              " 46,\n",
              " 47,\n",
              " 52,\n",
              " 49,\n",
              " 1,\n",
              " 61,\n",
              " 43,\n",
              " 1,\n",
              " 39,\n",
              " 56,\n",
              " 43,\n",
              " 1,\n",
              " 58,\n",
              " 53,\n",
              " 53,\n",
              " 1,\n",
              " 42,\n",
              " 43,\n",
              " 39,\n",
              " 56,\n",
              " 10,\n",
              " 1,\n",
              " 58,\n",
              " 46,\n",
              " 43,\n",
              " 1,\n",
              " 50,\n",
              " 43,\n",
              " 39,\n",
              " 52,\n",
              " 52,\n",
              " 43,\n",
              " 57,\n",
              " 57,\n",
              " 1,\n",
              " 58,\n",
              " 46,\n",
              " 39,\n",
              " 58,\n",
              " 0,\n",
              " 39,\n",
              " 44,\n",
              " 44,\n",
              " 50,\n",
              " 47,\n",
              " 41,\n",
              " 58,\n",
              " 57,\n",
              " 1,\n",
              " 59,\n",
              " 57,\n",
              " 6,\n",
              " 1,\n",
              " 58,\n",
              " 46,\n",
              " 43,\n",
              " 1,\n",
              " 53,\n",
              " 40,\n",
              " 48,\n",
              " 43,\n",
              " 41,\n",
              " 58,\n",
              " 1,\n",
              " 53,\n",
              " 44,\n",
              " 1,\n",
              " 53,\n",
              " 59,\n",
              " 56,\n",
              " 1,\n",
              " 51,\n",
              " 47,\n",
              " 57,\n",
              " 43,\n",
              " 56,\n",
              " 63,\n",
              " 6,\n",
              " 1,\n",
              " 47,\n",
              " 57,\n",
              " 1,\n",
              " 39,\n",
              " 57,\n",
              " 1,\n",
              " 39,\n",
              " 52,\n",
              " 0,\n",
              " 47,\n",
              " 52,\n",
              " 60,\n",
              " 43,\n",
              " 52,\n",
              " 58,\n",
              " 53,\n",
              " 56,\n",
              " 63,\n",
              " 1,\n",
              " 58,\n",
              " 53,\n",
              " 1,\n",
              " 54,\n",
              " 39,\n",
              " 56,\n",
              " 58,\n",
              " 47,\n",
              " 41,\n",
              " 59,\n",
              " 50,\n",
              " 39,\n",
              " 56,\n",
              " 47,\n",
              " 57,\n",
              " 43,\n",
              " 1,\n",
              " 58,\n",
              " 46,\n",
              " 43,\n",
              " 47,\n",
              " 56,\n",
              " 1,\n",
              " 39,\n",
              " 40,\n",
              " 59,\n",
              " 52,\n",
              " 42,\n",
              " 39,\n",
              " 52,\n",
              " 41,\n",
              " 43,\n",
              " 11,\n",
              " 1,\n",
              " 53,\n",
              " 59,\n",
              " 56,\n",
              " 0,\n",
              " 57,\n",
              " 59,\n",
              " 44,\n",
              " 44,\n",
              " 43,\n",
              " 56,\n",
              " 39,\n",
              " 52,\n",
              " 41,\n",
              " 43,\n",
              " 1,\n",
              " 47,\n",
              " 57,\n",
              " 1,\n",
              " 39,\n",
              " 1,\n",
              " 45,\n",
              " 39,\n",
              " 47,\n",
              " 52,\n",
              " 1,\n",
              " 58,\n",
              " 53,\n",
              " 1,\n",
              " 58,\n",
              " 46,\n",
              " 43,\n",
              " 51,\n",
              " 1,\n",
              " 24,\n",
              " 43,\n",
              " 58,\n",
              " 1,\n",
              " 59,\n",
              " 57,\n",
              " 1,\n",
              " 56,\n",
              " 43,\n",
              " 60,\n",
              " 43,\n",
              " 52,\n",
              " 45,\n",
              " 43,\n",
              " 1,\n",
              " 58,\n",
              " 46,\n",
              " 47,\n",
              " 57,\n",
              " 1,\n",
              " 61,\n",
              " 47,\n",
              " 58,\n",
              " 46,\n",
              " 0,\n",
              " 53,\n",
              " 59,\n",
              " 56,\n",
              " 1,\n",
              " 54,\n",
              " 47,\n",
              " 49,\n",
              " 43,\n",
              " 57,\n",
              " 6,\n",
              " 1,\n",
              " 43,\n",
              " 56,\n",
              " 43,\n",
              " 1,\n",
              " 61,\n",
              " 43,\n",
              " 1,\n",
              " 40,\n",
              " 43,\n",
              " 41,\n",
              " 53,\n",
              " 51,\n",
              " 43,\n",
              " 1,\n",
              " 56,\n",
              " 39,\n",
              " 49,\n",
              " 43,\n",
              " 57,\n",
              " 10,\n",
              " 1,\n",
              " 44,\n",
              " 53,\n",
              " 56,\n",
              " 1,\n",
              " 58,\n",
              " 46,\n",
              " 43,\n",
              " 1,\n",
              " 45,\n",
              " 53,\n",
              " 42,\n",
              " 57,\n",
              " 1,\n",
              " 49,\n",
              " 52,\n",
              " 53,\n",
              " 61,\n",
              " 1,\n",
              " 21,\n",
              " 0,\n",
              " 57,\n",
              " 54,\n",
              " 43,\n",
              " 39,\n",
              " 49,\n",
              " 1,\n",
              " 58,\n",
              " 46,\n",
              " 47,\n",
              " 57,\n",
              " 1,\n",
              " 47,\n",
              " 52,\n",
              " 1,\n",
              " 46,\n",
              " 59,\n",
              " 52,\n",
              " 45,\n",
              " 43,\n",
              " 56,\n",
              " 1,\n",
              " 44,\n",
              " 53,\n",
              " 56,\n",
              " 1,\n",
              " 40,\n",
              " 56,\n",
              " 43,\n",
              " 39,\n",
              " 42,\n",
              " 6,\n",
              " 1,\n",
              " 52,\n",
              " 53,\n",
              " 58,\n",
              " 1,\n",
              " 47,\n",
              " 52,\n",
              " 1,\n",
              " 58,\n",
              " 46,\n",
              " 47,\n",
              " 56,\n",
              " 57,\n",
              " 58,\n",
              " 1,\n",
              " 44,\n",
              " 53,\n",
              " 56,\n",
              " 1,\n",
              " 56,\n",
              " 43,\n",
              " 60,\n",
              " 43,\n",
              " 52,\n",
              " 45,\n",
              " 43,\n",
              " 8,\n",
              " 0,\n",
              " 0,\n",
              " ...]"
            ]
          },
          "metadata": {
            "tags": []
          },
          "execution_count": 32
        }
      ]
    },
    {
      "cell_type": "code",
      "metadata": {
        "id": "l57jOjd4cZAB"
      },
      "source": [
        "seq_length = 100\n",
        "examples_per_epoch = len(text)"
      ],
      "execution_count": null,
      "outputs": []
    },
    {
      "cell_type": "code",
      "metadata": {
        "colab": {
          "base_uri": "https://localhost:8080/"
        },
        "id": "yj7aEM12cZGi",
        "outputId": "ccec41a7-5e18-4cc5-c325-9c06b8f9c602"
      },
      "source": [
        "for i in char_dataset.take(5):\n",
        "    print(idx2char[i])"
      ],
      "execution_count": null,
      "outputs": [
        {
          "output_type": "stream",
          "text": [
            "F\n",
            "i\n",
            "r\n",
            "s\n",
            "t\n"
          ],
          "name": "stdout"
        }
      ]
    },
    {
      "cell_type": "code",
      "metadata": {
        "id": "80a_8WJBe3Wv"
      },
      "source": [
        "sequences = char_dataset.batch(seq_length+1, drop_remainder=True)\n"
      ],
      "execution_count": null,
      "outputs": []
    },
    {
      "cell_type": "code",
      "metadata": {
        "colab": {
          "base_uri": "https://localhost:8080/"
        },
        "id": "UGcHxkeae3g0",
        "outputId": "61eceeff-37ac-4288-d701-c6434bac1f59"
      },
      "source": [
        "for item in sequences.take(1):\n",
        "    print(repr(''.join(idx2char[item])))"
      ],
      "execution_count": null,
      "outputs": [
        {
          "output_type": "stream",
          "text": [
            "'First Citizen:\\nBefore we proceed any further, hear me speak.\\n\\nAll:\\nSpeak, speak.\\n\\nFirst Citizen:\\nYou '\n"
          ],
          "name": "stdout"
        }
      ]
    },
    {
      "cell_type": "code",
      "metadata": {
        "id": "fqf8Htwze3p8"
      },
      "source": [
        "def split_input_target(chunk):\n",
        "    input_text = chunk[:-1]\n",
        "    target_text = chunk[1:]\n",
        "    return input_text, target_text\n",
        "\n",
        "dataset = sequences.map(split_input_target)"
      ],
      "execution_count": null,
      "outputs": []
    },
    {
      "cell_type": "code",
      "metadata": {
        "colab": {
          "base_uri": "https://localhost:8080/"
        },
        "id": "NlIbEngRe3yv",
        "outputId": "d17d3d3b-d48c-4504-8cd0-9418dadce866"
      },
      "source": [
        "len(dataset)"
      ],
      "execution_count": null,
      "outputs": [
        {
          "output_type": "execute_result",
          "data": {
            "text/plain": [
              "11043"
            ]
          },
          "metadata": {
            "tags": []
          },
          "execution_count": 64
        }
      ]
    },
    {
      "cell_type": "code",
      "metadata": {
        "colab": {
          "base_uri": "https://localhost:8080/"
        },
        "id": "KxnEH106gmw4",
        "outputId": "c618b270-c73d-4160-d30b-b7f866d68f74"
      },
      "source": [
        "for input_example, target_example in  dataset.take(1):\n",
        "    print('Input data: ', repr(''.join(idx2char[input_example])))\n",
        "    print('Target data:', repr(''.join(idx2char[target_example])))"
      ],
      "execution_count": null,
      "outputs": [
        {
          "output_type": "stream",
          "text": [
            "Input data:  'First Citizen:\\nBefore we proceed any further, hear me speak.\\n\\nAll:\\nSpeak, speak.\\n\\nFirst Citizen:\\nYou'\n",
            "Target data: 'irst Citizen:\\nBefore we proceed any further, hear me speak.\\n\\nAll:\\nSpeak, speak.\\n\\nFirst Citizen:\\nYou '\n"
          ],
          "name": "stdout"
        }
      ]
    },
    {
      "cell_type": "code",
      "metadata": {
        "colab": {
          "base_uri": "https://localhost:8080/"
        },
        "id": "JoUmYUcGgm9P",
        "outputId": "435f4cd2-e0bd-4c81-cf1d-8e064082da8a"
      },
      "source": [
        "# Batch size\n",
        "BATCH_SIZE = 64\n",
        "\n",
        "# Buffer size to shuffle the dataset\n",
        "# (TF data is designed to work with possibly infinite sequences,\n",
        "# so it doesn't attempt to shuffle the entire sequence in memory. Instead,\n",
        "# it maintains a buffer in which it shuffles elements).\n",
        "BUFFER_SIZE = 10000\n",
        "\n",
        "dataset = dataset.shuffle(BUFFER_SIZE).batch(BATCH_SIZE, drop_remainder=True)\n",
        "dataset"
      ],
      "execution_count": null,
      "outputs": [
        {
          "output_type": "execute_result",
          "data": {
            "text/plain": [
              "<BatchDataset shapes: ((64, 100), (64, 100)), types: (tf.int64, tf.int64)>"
            ]
          },
          "metadata": {
            "tags": []
          },
          "execution_count": 66
        }
      ]
    },
    {
      "cell_type": "code",
      "metadata": {
        "id": "z8TedN_GgnHC"
      },
      "source": [
        "# Length of the vocabulary in chars\n",
        "vocab_size = len(vocab)\n",
        "\n",
        "# The embedding dimension\n",
        "embedding_dim = 256\n",
        "\n",
        "# Number of RNN units\n",
        "rnn_units = 1024"
      ],
      "execution_count": null,
      "outputs": []
    },
    {
      "cell_type": "code",
      "metadata": {
        "id": "q4M8y1-egnOj"
      },
      "source": [
        "def build_model(vocab_size, embedding_dim, rnn_units, batch_size):\n",
        "    model = tf.keras.Sequential([\n",
        "        tf.keras.layers.Embedding(vocab_size, embedding_dim,\n",
        "                                  batch_input_shape=[batch_size, None]),\n",
        "        tf.keras.layers.GRU(rnn_units,\n",
        "                            return_sequences=True,\n",
        "                            stateful=True,\n",
        "                            recurrent_initializer='glorot_uniform'),\n",
        "        tf.keras.layers.Dense(vocab_size)\n",
        "    ])\n",
        "    return model"
      ],
      "execution_count": null,
      "outputs": []
    },
    {
      "cell_type": "code",
      "metadata": {
        "id": "F7K-BOXXi4ZT"
      },
      "source": [
        "model = build_model(\n",
        "    vocab_size=len(vocab),\n",
        "    embedding_dim=embedding_dim,\n",
        "    rnn_units=rnn_units,\n",
        "    batch_size=BATCH_SIZE)"
      ],
      "execution_count": null,
      "outputs": []
    },
    {
      "cell_type": "code",
      "metadata": {
        "colab": {
          "base_uri": "https://localhost:8080/"
        },
        "id": "Wxo9LTW0i4c0",
        "outputId": "2ea2c628-d211-4285-bee2-6cc7df502e7d"
      },
      "source": [
        "for input_example_batch, target_example_batch in dataset.take(1):\n",
        "    example_batch_predictions = model(input_example_batch)\n",
        "    print(example_batch_predictions.shape, \"# (batch_size, sequence_length, vocab_size)\")"
      ],
      "execution_count": null,
      "outputs": [
        {
          "output_type": "stream",
          "text": [
            "(64, 100, 65) # (batch_size, sequence_length, vocab_size)\n"
          ],
          "name": "stdout"
        }
      ]
    },
    {
      "cell_type": "code",
      "metadata": {
        "id": "lTXP4rlri4gO"
      },
      "source": [
        "def loss(labels, logits):\n",
        "    return tf.keras.losses.sparse_categorical_crossentropy(labels, logits, from_logits=True)"
      ],
      "execution_count": null,
      "outputs": []
    },
    {
      "cell_type": "code",
      "metadata": {
        "id": "MJJS3pESi4jG"
      },
      "source": [
        "model.compile(optimizer='adam', loss=loss)"
      ],
      "execution_count": null,
      "outputs": []
    },
    {
      "cell_type": "code",
      "metadata": {
        "id": "CjtUTENfpN-c"
      },
      "source": [
        "import os\n",
        "# Directory where the checkpoints will be saved\n",
        "checkpoint_dir = './training_checkpoints'\n",
        "# Name of the checkpoint files\n",
        "checkpoint_prefix = os.path.join(checkpoint_dir, \"ckpt_{epoch}\")\n",
        "\n",
        "checkpoint_callback = tf.keras.callbacks.ModelCheckpoint(\n",
        "    filepath=checkpoint_prefix,\n",
        "    save_weights_only=True)"
      ],
      "execution_count": null,
      "outputs": []
    },
    {
      "cell_type": "code",
      "metadata": {
        "colab": {
          "base_uri": "https://localhost:8080/"
        },
        "id": "HUI0bTGVi4ml",
        "outputId": "dada3974-f392-41fa-ac97-8ba3c826b1b0"
      },
      "source": [
        "history = model.fit(dataset, epochs=10, callbacks=[checkpoint_callback])"
      ],
      "execution_count": null,
      "outputs": [
        {
          "output_type": "stream",
          "text": [
            "Epoch 1/10\n",
            "172/172 [==============================] - 10s 58ms/step - loss: 2.6708\n",
            "Epoch 2/10\n",
            "172/172 [==============================] - 10s 59ms/step - loss: 1.9752\n",
            "Epoch 3/10\n",
            "172/172 [==============================] - 10s 59ms/step - loss: 1.7074\n",
            "Epoch 4/10\n",
            "172/172 [==============================] - 10s 58ms/step - loss: 1.5564\n",
            "Epoch 5/10\n",
            "172/172 [==============================] - 10s 57ms/step - loss: 1.4663\n",
            "Epoch 6/10\n",
            "172/172 [==============================] - 10s 57ms/step - loss: 1.4053\n",
            "Epoch 7/10\n",
            "172/172 [==============================] - 10s 57ms/step - loss: 1.3586\n",
            "Epoch 8/10\n",
            "172/172 [==============================] - 10s 58ms/step - loss: 1.3197\n",
            "Epoch 9/10\n",
            "172/172 [==============================] - 10s 58ms/step - loss: 1.2851\n",
            "Epoch 10/10\n",
            "172/172 [==============================] - 10s 58ms/step - loss: 1.2523\n"
          ],
          "name": "stdout"
        }
      ]
    },
    {
      "cell_type": "code",
      "metadata": {
        "colab": {
          "base_uri": "https://localhost:8080/",
          "height": 35
        },
        "id": "rxeYCR-AmN0X",
        "outputId": "6aae89be-bdb3-447a-d441-27eaf0cee54f"
      },
      "source": [
        "tf.train.latest_checkpoint(checkpoint_dir)\n"
      ],
      "execution_count": null,
      "outputs": [
        {
          "output_type": "execute_result",
          "data": {
            "application/vnd.google.colaboratory.intrinsic+json": {
              "type": "string"
            },
            "text/plain": [
              "'./training_checkpoints/ckpt_10'"
            ]
          },
          "metadata": {
            "tags": []
          },
          "execution_count": 135
        }
      ]
    },
    {
      "cell_type": "code",
      "metadata": {
        "id": "l0mZ-iyApIMj"
      },
      "source": [
        "model = build_model(vocab_size, embedding_dim, rnn_units, batch_size=1)\n",
        "\n",
        "model.load_weights(tf.train.latest_checkpoint(checkpoint_dir))\n",
        "\n",
        "model.build(tf.TensorShape([1, None]))"
      ],
      "execution_count": null,
      "outputs": []
    },
    {
      "cell_type": "code",
      "metadata": {
        "id": "4pLQ6DhPlJVt"
      },
      "source": [
        "def generate_text(model, start_string):\n",
        "    # Evaluation step (generating text using the learned model)\n",
        "\n",
        "    # Number of characters to generate\n",
        "    num_generate = 1\n",
        "\n",
        "    # Converting our start string to numbers (vectorizing)\n",
        "    input_eval = [char2idx[s] for s in start_string]\n",
        "    input_eval = tf.expand_dims(input_eval, 0)\n",
        "\n",
        "    # Empty string to store our results\n",
        "    text_generated = []\n",
        "\n",
        "    # Low temperature results in more predictable text.\n",
        "    # Higher temperature results in more surprising text.\n",
        "    # Experiment to find the best setting.\n",
        "    temperature = 1.0\n",
        "\n",
        "    # Here batch size == 1\n",
        "    model.reset_states()\n",
        "    for i in range(num_generate):\n",
        "        predictions = model(input_eval)\n",
        "        # remove the batch dimension\n",
        "        predictions = tf.squeeze(predictions, 0)\n",
        "\n",
        "        # using a categorical distribution to predict the character returned by the model\n",
        "        predictions = predictions / temperature\n",
        "        predicted_id = tf.random.categorical(predictions, num_samples=1)[-1,0].numpy()\n",
        "\n",
        "        # Pass the predicted character as the next input to the model\n",
        "        # along with the previous hidden state\n",
        "        input_eval = tf.expand_dims([predicted_id], 0)\n",
        "\n",
        "        text_generated.append(idx2char[predicted_id])\n",
        "\n",
        "    return (start_string + ''.join(text_generated))"
      ],
      "execution_count": null,
      "outputs": []
    },
    {
      "cell_type": "code",
      "metadata": {
        "colab": {
          "base_uri": "https://localhost:8080/"
        },
        "id": "R1Lqfd2elUl_",
        "outputId": "d815f223-ef00-4f06-864c-b43e26c68040"
      },
      "source": [
        "print(generate_text(model, start_string=\"BU\"))"
      ],
      "execution_count": null,
      "outputs": [
        {
          "output_type": "stream",
          "text": [
            "BUN\n"
          ],
          "name": "stdout"
        }
      ]
    }
  ]
}